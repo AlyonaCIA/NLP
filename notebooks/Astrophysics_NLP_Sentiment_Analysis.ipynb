{
 "cells": [
  {
   "cell_type": "code",
   "execution_count": 13,
   "metadata": {},
   "outputs": [],
   "source": [
    "import matplotlib.pyplot as plt\n",
    "import pandas as pd"
   ]
  },
  {
   "cell_type": "code",
   "execution_count": null,
   "metadata": {},
   "outputs": [],
   "source": [
    "# Load the data\n",
    "data = pd.read_csv('../data/solar_ml_abstracts.csv')"
   ]
  },
  {
   "cell_type": "code",
   "execution_count": null,
   "metadata": {},
   "outputs": [
    {
     "data": {
      "text/html": [
       "<div>\n",
       "<style scoped>\n",
       "    .dataframe tbody tr th:only-of-type {\n",
       "        vertical-align: middle;\n",
       "    }\n",
       "\n",
       "    .dataframe tbody tr th {\n",
       "        vertical-align: top;\n",
       "    }\n",
       "\n",
       "    .dataframe thead th {\n",
       "        text-align: right;\n",
       "    }\n",
       "</style>\n",
       "<table border=\"1\" class=\"dataframe\">\n",
       "  <thead>\n",
       "    <tr style=\"text-align: right;\">\n",
       "      <th></th>\n",
       "      <th>title</th>\n",
       "      <th>summary</th>\n",
       "      <th>published</th>\n",
       "    </tr>\n",
       "  </thead>\n",
       "  <tbody>\n",
       "    <tr>\n",
       "      <th>0</th>\n",
       "      <td>Solar Flare Prediction Model with Three Machin...</td>\n",
       "      <td>We developed a flare prediction model using ma...</td>\n",
       "      <td>2016-11-06T15:09:50Z</td>\n",
       "    </tr>\n",
       "    <tr>\n",
       "      <th>1</th>\n",
       "      <td>Inferring Maps of the Sun's Far-side Unsigned ...</td>\n",
       "      <td>Accurate modeling of the Sun's coronal magneti...</td>\n",
       "      <td>2022-11-23T02:10:00Z</td>\n",
       "    </tr>\n",
       "    <tr>\n",
       "      <th>2</th>\n",
       "      <td>Inclination Angles for Be Stars Determined Usi...</td>\n",
       "      <td>We test the viability of training machine lear...</td>\n",
       "      <td>2023-10-27T19:23:55Z</td>\n",
       "    </tr>\n",
       "    <tr>\n",
       "      <th>3</th>\n",
       "      <td>A Machine Learning Approach to Correcting Atmo...</td>\n",
       "      <td>Current post-processing techniques for the cor...</td>\n",
       "      <td>2020-11-25T15:17:26Z</td>\n",
       "    </tr>\n",
       "    <tr>\n",
       "      <th>4</th>\n",
       "      <td>Solar Flare Prediction Using SDO/HMI Vector Ma...</td>\n",
       "      <td>We attempt to forecast M-and X-class solar fla...</td>\n",
       "      <td>2014-11-05T21:00:03Z</td>\n",
       "    </tr>\n",
       "  </tbody>\n",
       "</table>\n",
       "</div>"
      ],
      "text/plain": [
       "                                               title  \\\n",
       "0  Solar Flare Prediction Model with Three Machin...   \n",
       "1  Inferring Maps of the Sun's Far-side Unsigned ...   \n",
       "2  Inclination Angles for Be Stars Determined Usi...   \n",
       "3  A Machine Learning Approach to Correcting Atmo...   \n",
       "4  Solar Flare Prediction Using SDO/HMI Vector Ma...   \n",
       "\n",
       "                                             summary             published  \n",
       "0  We developed a flare prediction model using ma...  2016-11-06T15:09:50Z  \n",
       "1  Accurate modeling of the Sun's coronal magneti...  2022-11-23T02:10:00Z  \n",
       "2  We test the viability of training machine lear...  2023-10-27T19:23:55Z  \n",
       "3  Current post-processing techniques for the cor...  2020-11-25T15:17:26Z  \n",
       "4  We attempt to forecast M-and X-class solar fla...  2014-11-05T21:00:03Z  "
      ]
     },
     "execution_count": 5,
     "metadata": {},
     "output_type": "execute_result"
    }
   ],
   "source": [
    "# Display the first few rows of the dataset\n",
    "data.head()\n"
   ]
  },
  {
   "cell_type": "code",
   "execution_count": null,
   "metadata": {},
   "outputs": [
    {
     "name": "stdout",
     "output_type": "stream",
     "text": [
      "<class 'pandas.core.frame.DataFrame'>\n",
      "RangeIndex: 836 entries, 0 to 835\n",
      "Data columns (total 3 columns):\n",
      " #   Column     Non-Null Count  Dtype \n",
      "---  ------     --------------  ----- \n",
      " 0   title      836 non-null    object\n",
      " 1   summary    836 non-null    object\n",
      " 2   published  836 non-null    object\n",
      "dtypes: object(3)\n",
      "memory usage: 19.7+ KB\n"
     ]
    }
   ],
   "source": [
    "# Basic information about the DataFrame\n",
    "data.info()\n"
   ]
  },
  {
   "cell_type": "code",
   "execution_count": 14,
   "metadata": {},
   "outputs": [
    {
     "data": {
      "image/png": "[encoded data removed]",
      "text/plain": [
       "<Figure size 1000x600 with 1 Axes>"
      ]
     },
     "metadata": {},
     "output_type": "display_data"
    }
   ],
   "source": [
    "import matplotlib.pyplot as plt\n",
    "\n",
    "# Convert the 'published' column to datetime format\n",
    "data['published'] = pd.to_datetime(data['published'])\n",
    "\n",
    "# Plot the distribution of articles over time\n",
    "plt.figure(figsize=(10, 6))\n",
    "data['published'].hist(bins=30)\n",
    "plt.title('Distribution of Articles Over Time')\n",
    "plt.xlabel('Publication Date')\n",
    "plt.ylabel('Number of Articles')\n",
    "plt.show()\n"
   ]
  },
  {
   "cell_type": "code",
   "execution_count": null,
   "metadata": {},
   "outputs": [],
   "source": []
  }
 ],
 "metadata": {
  "kernelspec": {
   "display_name": "MasterAI",
   "language": "python",
   "name": "python3"
  },
  "language_info": {
   "codemirror_mode": {
    "name": "ipython",
    "version": 3
   },
   "file_extension": ".py",
   "mimetype": "text/x-python",
   "name": "python",
   "nbconvert_exporter": "python",
   "pygments_lexer": "ipython3",
   "version": "3.12.5"
  }
 },
 "nbformat": 4,
 "nbformat_minor": 2
}
